{
 "cells": [
  {
   "cell_type": "markdown",
   "metadata": {
    "id": "F2nMBtOCxMTN"
   },
   "source": [
    "# COGS 118A: Supervised Machine Learning Algorithms\n",
    "## Homework Assignment 3\n",
    "### Coding Part"
   ]
  },
  {
   "cell_type": "markdown",
   "metadata": {
    "id": "Z4HcznxTxYKU"
   },
   "source": [
    "**Instructions:** This Jupyter notebook contains starter codes for the coding questions of the assignment. Use this notebook as a starting point to code the answers to the coding questions. Then generate a PDF file of the notebook and combine it with the PDF file of your solution to the written questions and submit a **single PDF file** to Gradescope."
   ]
  },
  {
   "cell_type": "markdown",
   "metadata": {
    "id": "_mj7rYbFBf3h"
   },
   "source": [
    "## 5 (20 points) Coding:  Data Manipulation"
   ]
  },
  {
   "cell_type": "code",
   "execution_count": null,
   "metadata": {},
   "outputs": [],
   "source": [
    "# Importing Required Packages\n",
    "import numpy as np\n",
    "import pandas as pd\n",
    "from sklearn import datasets"
   ]
  },
  {
   "cell_type": "code",
   "execution_count": null,
   "metadata": {
    "colab": {
     "base_uri": "https://localhost:8080/",
     "height": 1000
    },
    "id": "Qr-sP7UH9g-f",
    "outputId": "7604fb77-7bd9-4445-d899-06c3258a621b",
    "scrolled": false
   },
   "outputs": [],
   "source": [
    "# Loading the dataset\n",
    "iris = datasets.load_iris()"
   ]
  },
  {
   "cell_type": "code",
   "execution_count": null,
   "metadata": {},
   "outputs": [],
   "source": [
    "# Creating a Pandas dataframe that contains the dataset\n",
    "# Using no.c_ to concatenate the features and lables into one array\n",
    "iris_df = pd.DataFrame(data = np.c_[iris.data, iris.target],\n",
    "                       columns = iris['feature_names'] + ['target'])"
   ]
  },
  {
   "cell_type": "code",
   "execution_count": null,
   "metadata": {},
   "outputs": [],
   "source": [
    "iris_df.head()"
   ]
  }
 ],
 "metadata": {
  "colab": {
   "collapsed_sections": [],
   "name": "Assignment1.ipynb",
   "provenance": []
  },
  "kernelspec": {
   "display_name": "Python 3",
   "language": "python",
   "name": "python3"
  },
  "language_info": {
   "codemirror_mode": {
    "name": "ipython",
    "version": 3
   },
   "file_extension": ".py",
   "mimetype": "text/x-python",
   "name": "python",
   "nbconvert_exporter": "python",
   "pygments_lexer": "ipython3",
   "version": "3.8.5"
  },
  "varInspector": {
   "cols": {
    "lenName": 16,
    "lenType": 16,
    "lenVar": 40
   },
   "kernels_config": {
    "python": {
     "delete_cmd_postfix": "",
     "delete_cmd_prefix": "del ",
     "library": "var_list.py",
     "varRefreshCmd": "print(var_dic_list())"
    },
    "r": {
     "delete_cmd_postfix": ") ",
     "delete_cmd_prefix": "rm(",
     "library": "var_list.r",
     "varRefreshCmd": "cat(var_dic_list()) "
    }
   },
   "types_to_exclude": [
    "module",
    "function",
    "builtin_function_or_method",
    "instance",
    "_Feature"
   ],
   "window_display": false
  }
 },
 "nbformat": 4,
 "nbformat_minor": 1
}
